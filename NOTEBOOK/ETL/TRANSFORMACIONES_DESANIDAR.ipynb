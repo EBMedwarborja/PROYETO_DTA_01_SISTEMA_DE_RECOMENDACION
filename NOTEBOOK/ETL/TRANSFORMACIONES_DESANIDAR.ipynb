{
 "cells": [
  {
   "cell_type": "code",
   "execution_count": 81,
   "id": "2d162c10-1208-4a9d-9e8f-cfc9023e8035",
   "metadata": {},
   "outputs": [],
   "source": [
    "import pandas as pd\n",
    "import ast\n",
    "\n",
    "# Definir las rutas de los archivos CSV\n",
    "ruta_credits = r'C:\\Users\\edwar\\Documents\\PROYETO_DTA_01_SISTEMA_DE_RECOMENDACION\\NOTEBOOK\\DATASET_ORIGINAL\\credits.csv'\n",
    "ruta_movies = r'C:\\Users\\edwar\\Documents\\PROYETO_DTA_01_SISTEMA_DE_RECOMENDACION\\NOTEBOOK\\movies_dataset.csv'\n",
    "\n"
   ]
  },
  {
   "cell_type": "code",
   "execution_count": 83,
   "id": "9b8b6f32-fa94-480b-b8e1-0b489b8da351",
   "metadata": {},
   "outputs": [],
   "source": [
    "\n",
    "# Leer los archivos CSV sin especificar el tipo de datos, usando low_memory=False\n",
    "credits_df = pd.read_csv(ruta_credits)\n",
    "movies_df = pd.read_csv(ruta_movies, low_memory=False)\n"
   ]
  },
  {
   "cell_type": "code",
   "execution_count": 85,
   "id": "3f6d49ba-7921-4810-bfe1-d532693fcd30",
   "metadata": {},
   "outputs": [],
   "source": [
    "# Función para desanidar columnas con listas de diccionarios\n",
    "def desanidar_columna(df, columna, id_col='id'):\n",
    "    \"\"\"\n",
    "    Desanida una columna con listas de diccionarios y la expande en varias filas.\n",
    "    - df: DataFrame original.\n",
    "    - columna: Nombre de la columna que contiene la lista anidada.\n",
    "    - id_col: Columna que sirve como identificador de la fila (se mantiene al desanidar).\n",
    "    \"\"\"\n",
    "    # Convertir los valores de la columna de cadena a objetos Python (listas de diccionarios)\n",
    "    df[columna] = df[columna].apply(lambda x: ast.literal_eval(x) if isinstance(x, str) else [])\n",
    "    \n",
    "    # Expandir la columna anidada en un nuevo DataFrame\n",
    "    df_expanded = df[[id_col, columna]].explode(columna)\n",
    "    \n",
    "    # Convertir cada elemento (que ahora es un diccionario) en nuevas columnas\n",
    "    df_expanded = pd.concat([df_expanded[id_col], df_expanded[columna].apply(pd.Series)], axis=1)\n",
    "    \n",
    "    return df_expanded\n",
    "\n"
   ]
  },
  {
   "cell_type": "code",
   "execution_count": 89,
   "id": "a72fb4b1-179b-460a-8958-35274daec74d",
   "metadata": {},
   "outputs": [],
   "source": [
    "\n",
    "# Desanidar las columnas 'cast' y 'crew' del archivo credits.csv\n",
    "cast_expanded = desanidar_columna(credits_df, 'cast')\n",
    "crew_expanded = desanidar_columna(credits_df, 'crew')\n",
    "\n"
   ]
  },
  {
   "cell_type": "code",
   "execution_count": 107,
   "id": "bd924fcd-580a-46d1-8b4d-db3c288c0f04",
   "metadata": {},
   "outputs": [],
   "source": [
    "# Desanidar la columna 'genres' del archivo movies_dataset.csv\n",
    "genres_expanded = desanidar_columna(movies_df, 'genres')\n",
    "\n"
   ]
  },
  {
   "cell_type": "code",
   "execution_count": 108,
   "id": "a589811c-dbd2-4b3c-90be-e3df2c6ce02f",
   "metadata": {},
   "outputs": [],
   "source": [
    "# Definir las rutas para guardar los archivos CSV desanidados y los archivos originales en la misma carpeta\n",
    "ruta_nuevos_datasets = r'C:\\Users\\edwar\\Documents\\PROYETO_DTA_01_SISTEMA_DE_RECOMENDACION\\NOTEBOOK\\NUEVOS DATASET'\n",
    "ruta_cast = ruta_nuevos_datasets + r'\\cast_expanded.csv'\n",
    "ruta_crew = ruta_nuevos_datasets + r'\\crew_expanded.csv'\n",
    "ruta_genres = ruta_nuevos_datasets + r'\\genres_expanded.csv'\n",
    "ruta_credits_rest = ruta_nuevos_datasets + r'\\credits_rest.csv'\n",
    "ruta_movies_rest = ruta_nuevos_datasets + r'\\movies_rest.csv'\n"
   ]
  },
  {
   "cell_type": "code",
   "execution_count": 109,
   "id": "741bce92-33ab-4cb8-b522-fc0973c3e0c3",
   "metadata": {},
   "outputs": [],
   "source": [
    "# Guardar los datos desanidados en nuevos archivos CSV\n",
    "cast_expanded.to_csv(ruta_cast, index=False)\n",
    "crew_expanded.to_csv(ruta_crew, index=False)\n",
    "genres_expanded.to_csv(ruta_genres, index=False)"
   ]
  },
  {
   "cell_type": "code",
   "execution_count": 110,
   "id": "eb45f027-93d3-4af3-88ee-5c5fbf580a9a",
   "metadata": {},
   "outputs": [],
   "source": [
    "\n",
    "# Eliminar las columnas desanidadas de los DataFrames originales\n",
    "credits_df_rest = credits_df.drop(columns=['cast', 'crew'])\n",
    "movies_df_rest = movies_df.drop(columns=['genres'])"
   ]
  },
  {
   "cell_type": "code",
   "execution_count": 111,
   "id": "f705d5c9-6f7e-4d13-a840-077ab29b4963",
   "metadata": {},
   "outputs": [],
   "source": [
    "# Guardar los datos originales (sin las columnas desanidadas) en nuevos archivos CSV\n",
    "credits_df_rest.to_csv(ruta_credits_rest, index=False)\n",
    "movies_df_rest.to_csv(ruta_movies_rest, index=False)"
   ]
  },
  {
   "cell_type": "code",
   "execution_count": null,
   "id": "1dbc78dc-8f58-44f3-b0f7-790143eeb336",
   "metadata": {},
   "outputs": [],
   "source": []
  }
 ],
 "metadata": {
  "kernelspec": {
   "display_name": "Python 3 (ipykernel)",
   "language": "python",
   "name": "python3"
  },
  "language_info": {
   "codemirror_mode": {
    "name": "ipython",
    "version": 3
   },
   "file_extension": ".py",
   "mimetype": "text/x-python",
   "name": "python",
   "nbconvert_exporter": "python",
   "pygments_lexer": "ipython3",
   "version": "3.11.7"
  }
 },
 "nbformat": 4,
 "nbformat_minor": 5
}
