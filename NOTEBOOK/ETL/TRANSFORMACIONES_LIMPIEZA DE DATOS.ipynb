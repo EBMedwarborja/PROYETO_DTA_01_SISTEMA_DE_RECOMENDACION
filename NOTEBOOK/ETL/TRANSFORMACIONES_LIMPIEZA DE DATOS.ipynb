{
 "cells": [
  {
   "cell_type": "code",
   "execution_count": 25,
   "id": "0dd10be4-4fbd-4ebb-bcf1-2c9bb0981ee7",
   "metadata": {},
   "outputs": [],
   "source": [
    "import pandas as pd\n",
    "import ast\n",
    "import os\n",
    "\n"
   ]
  },
  {
   "cell_type": "code",
   "execution_count": 27,
   "id": "3a4e7f09-44e5-49ca-8213-8cfcecfc0d31",
   "metadata": {},
   "outputs": [],
   "source": [
    "\n",
    "# Ruta donde están ubicados los archivos\n",
    "directory = 'C:/Users/edwar/Documents/PROYETO_DTA_01_SISTEMA_DE_RECOMENDACION/NOTEBOOK/NUEVOS DATASET'\n",
    "\n",
    "# Lista con los nombres de los archivos que deseas combinar\n",
    "file_names = ['cast_expanded.csv', 'credits_rest.csv', 'crew_expanded.csv', 'genres_expanded.csv', 'movies_rest.csv']\n"
   ]
  },
  {
   "cell_type": "code",
   "execution_count": 33,
   "id": "90d504e8-e0b6-4ae5-a515-b938692c6f8f",
   "metadata": {},
   "outputs": [],
   "source": [
    "# Crear una lista vacía para almacenar los DataFrames\n",
    "dfs = []\n",
    "# Iterar sobre los archivos y leer cada uno en un DataFrame\n",
    "for file_name in file_names:\n",
    "    file_path = os.path.join(directory, file_name)\n",
    "    df = pd.read_csv(file_path, low_memory=False)  # low_memory=False para evitar advertencias\n",
    "    dfs.append(df)\n",
    "\n"
   ]
  },
  {
   "cell_type": "code",
   "execution_count": 34,
   "id": "01e0d5a4-98ed-421d-9ac6-50ab4a00a024",
   "metadata": {},
   "outputs": [
    {
     "name": "stdout",
     "output_type": "stream",
     "text": [
      "      id   0 credit_id department  gender  id.1  job name profile_path adult  \\\n",
      "0    862 NaN       NaN        NaN     NaN   NaN  NaN  NaN          NaN   NaN   \n",
      "1   8844 NaN       NaN        NaN     NaN   NaN  NaN  NaN          NaN   NaN   \n",
      "2  15602 NaN       NaN        NaN     NaN   NaN  NaN  NaN          NaN   NaN   \n",
      "3  31357 NaN       NaN        NaN     NaN   NaN  NaN  NaN          NaN   NaN   \n",
      "4  11862 NaN       NaN        NaN     NaN   NaN  NaN  NaN          NaN   NaN   \n",
      "\n",
      "   ... release_date revenue runtime spoken_languages status tagline title  \\\n",
      "0  ...          NaN     NaN     NaN              NaN    NaN     NaN   NaN   \n",
      "1  ...          NaN     NaN     NaN              NaN    NaN     NaN   NaN   \n",
      "2  ...          NaN     NaN     NaN              NaN    NaN     NaN   NaN   \n",
      "3  ...          NaN     NaN     NaN              NaN    NaN     NaN   NaN   \n",
      "4  ...          NaN     NaN     NaN              NaN    NaN     NaN   NaN   \n",
      "\n",
      "  video vote_average vote_count  \n",
      "0   NaN          NaN        NaN  \n",
      "1   NaN          NaN        NaN  \n",
      "2   NaN          NaN        NaN  \n",
      "3   NaN          NaN        NaN  \n",
      "4   NaN          NaN        NaN  \n",
      "\n",
      "[5 rows x 31 columns]\n"
     ]
    }
   ],
   "source": [
    "\n",
    "# Combinar todos los DataFrames en uno solo\n",
    "combined_df = pd.concat(dfs, ignore_index=True)\n",
    "\n",
    "# Guardar el DataFrame combinado en un nuevo archivo CSV llamado 'info_completa.csv'\n",
    "combined_df.to_csv(f'{directory}/info_completa.csv', index=False)\n",
    "\n",
    "# Mostrar los primeros 5 registros del DataFrame combinado\n",
    "print(combined_df.head())"
   ]
  },
  {
   "cell_type": "code",
   "execution_count": 39,
   "id": "91ef2456-9885-46c4-83e8-9109a9cf8269",
   "metadata": {},
   "outputs": [
    {
     "name": "stdout",
     "output_type": "stream",
     "text": [
      "      id   0 credit_id department  gender  id.1  job name profile_path adult  \\\n",
      "0    862 NaN       NaN        NaN     NaN   NaN  NaN  NaN          NaN   NaN   \n",
      "1   8844 NaN       NaN        NaN     NaN   NaN  NaN  NaN          NaN   NaN   \n",
      "2  15602 NaN       NaN        NaN     NaN   NaN  NaN  NaN          NaN   NaN   \n",
      "3  31357 NaN       NaN        NaN     NaN   NaN  NaN  NaN          NaN   NaN   \n",
      "4  11862 NaN       NaN        NaN     NaN   NaN  NaN  NaN          NaN   NaN   \n",
      "\n",
      "  belongs_to_collection budget homepage imdb_id original_language  \\\n",
      "0                   NaN    NaN      NaN     NaN               NaN   \n",
      "1                   NaN    NaN      NaN     NaN               NaN   \n",
      "2                   NaN    NaN      NaN     NaN               NaN   \n",
      "3                   NaN    NaN      NaN     NaN               NaN   \n",
      "4                   NaN    NaN      NaN     NaN               NaN   \n",
      "\n",
      "  original_title overview popularity poster_path production_companies  \\\n",
      "0            NaN      NaN        NaN         NaN                  NaN   \n",
      "1            NaN      NaN        NaN         NaN                  NaN   \n",
      "2            NaN      NaN        NaN         NaN                  NaN   \n",
      "3            NaN      NaN        NaN         NaN                  NaN   \n",
      "4            NaN      NaN        NaN         NaN                  NaN   \n",
      "\n",
      "  production_countries release_date  revenue  runtime spoken_languages status  \\\n",
      "0                  NaN          NaN      NaN      NaN              NaN    NaN   \n",
      "1                  NaN          NaN      NaN      NaN              NaN    NaN   \n",
      "2                  NaN          NaN      NaN      NaN              NaN    NaN   \n",
      "3                  NaN          NaN      NaN      NaN              NaN    NaN   \n",
      "4                  NaN          NaN      NaN      NaN              NaN    NaN   \n",
      "\n",
      "  tagline title video  vote_average  vote_count  \n",
      "0     NaN   NaN   NaN           NaN         NaN  \n",
      "1     NaN   NaN   NaN           NaN         NaN  \n",
      "2     NaN   NaN   NaN           NaN         NaN  \n",
      "3     NaN   NaN   NaN           NaN         NaN  \n",
      "4     NaN   NaN   NaN           NaN         NaN  \n"
     ]
    }
   ],
   "source": [
    "# Establecer que se muestre el máximo número de columnas\n",
    "pd.set_option('display.max_columns', None)\n",
    "\n",
    "# Mostrar todas las filas si lo deseas (ajusta según lo necesario)\n",
    "pd.set_option('display.max_rows', None)\n",
    "\n",
    "# Mostrar los primeros 5 registros del DataFrame combinado llamado 'combined_df'\n",
    "print(combined_df.head())"
   ]
  },
  {
   "cell_type": "code",
   "execution_count": 41,
   "id": "8c39b768-ac16-4d8d-8d64-dbea969908a3",
   "metadata": {},
   "outputs": [
    {
     "data": {
      "text/html": [
       "<div>\n",
       "<style scoped>\n",
       "    .dataframe tbody tr th:only-of-type {\n",
       "        vertical-align: middle;\n",
       "    }\n",
       "\n",
       "    .dataframe tbody tr th {\n",
       "        vertical-align: top;\n",
       "    }\n",
       "\n",
       "    .dataframe thead th {\n",
       "        text-align: right;\n",
       "    }\n",
       "</style>\n",
       "<table border=\"1\" class=\"dataframe\">\n",
       "  <thead>\n",
       "    <tr style=\"text-align: right;\">\n",
       "      <th></th>\n",
       "      <th>0</th>\n",
       "      <th>gender</th>\n",
       "      <th>id.1</th>\n",
       "      <th>revenue</th>\n",
       "      <th>runtime</th>\n",
       "      <th>vote_average</th>\n",
       "      <th>vote_count</th>\n",
       "    </tr>\n",
       "  </thead>\n",
       "  <tbody>\n",
       "    <tr>\n",
       "      <th>count</th>\n",
       "      <td>0.0</td>\n",
       "      <td>464314.000000</td>\n",
       "      <td>4.643140e+05</td>\n",
       "      <td>4.546000e+04</td>\n",
       "      <td>45203.000000</td>\n",
       "      <td>45460.000000</td>\n",
       "      <td>45460.000000</td>\n",
       "    </tr>\n",
       "    <tr>\n",
       "      <th>mean</th>\n",
       "      <td>NaN</td>\n",
       "      <td>0.759975</td>\n",
       "      <td>6.456037e+05</td>\n",
       "      <td>1.120935e+07</td>\n",
       "      <td>94.128199</td>\n",
       "      <td>5.618207</td>\n",
       "      <td>109.897338</td>\n",
       "    </tr>\n",
       "    <tr>\n",
       "      <th>std</th>\n",
       "      <td>NaN</td>\n",
       "      <td>0.935607</td>\n",
       "      <td>6.791434e+05</td>\n",
       "      <td>6.433225e+07</td>\n",
       "      <td>38.407810</td>\n",
       "      <td>1.924216</td>\n",
       "      <td>491.310374</td>\n",
       "    </tr>\n",
       "    <tr>\n",
       "      <th>min</th>\n",
       "      <td>NaN</td>\n",
       "      <td>0.000000</td>\n",
       "      <td>1.000000e+00</td>\n",
       "      <td>0.000000e+00</td>\n",
       "      <td>0.000000</td>\n",
       "      <td>0.000000</td>\n",
       "      <td>0.000000</td>\n",
       "    </tr>\n",
       "    <tr>\n",
       "      <th>25%</th>\n",
       "      <td>NaN</td>\n",
       "      <td>0.000000</td>\n",
       "      <td>3.025600e+04</td>\n",
       "      <td>0.000000e+00</td>\n",
       "      <td>85.000000</td>\n",
       "      <td>5.000000</td>\n",
       "      <td>3.000000</td>\n",
       "    </tr>\n",
       "    <tr>\n",
       "      <th>50%</th>\n",
       "      <td>NaN</td>\n",
       "      <td>0.000000</td>\n",
       "      <td>1.347900e+05</td>\n",
       "      <td>0.000000e+00</td>\n",
       "      <td>95.000000</td>\n",
       "      <td>6.000000</td>\n",
       "      <td>10.000000</td>\n",
       "    </tr>\n",
       "    <tr>\n",
       "      <th>75%</th>\n",
       "      <td>NaN</td>\n",
       "      <td>2.000000</td>\n",
       "      <td>1.388851e+06</td>\n",
       "      <td>0.000000e+00</td>\n",
       "      <td>107.000000</td>\n",
       "      <td>6.800000</td>\n",
       "      <td>34.000000</td>\n",
       "    </tr>\n",
       "    <tr>\n",
       "      <th>max</th>\n",
       "      <td>NaN</td>\n",
       "      <td>2.000000</td>\n",
       "      <td>1.908001e+06</td>\n",
       "      <td>2.787965e+09</td>\n",
       "      <td>1256.000000</td>\n",
       "      <td>10.000000</td>\n",
       "      <td>14075.000000</td>\n",
       "    </tr>\n",
       "  </tbody>\n",
       "</table>\n",
       "</div>"
      ],
      "text/plain": [
       "         0         gender          id.1       revenue       runtime  \\\n",
       "count  0.0  464314.000000  4.643140e+05  4.546000e+04  45203.000000   \n",
       "mean   NaN       0.759975  6.456037e+05  1.120935e+07     94.128199   \n",
       "std    NaN       0.935607  6.791434e+05  6.433225e+07     38.407810   \n",
       "min    NaN       0.000000  1.000000e+00  0.000000e+00      0.000000   \n",
       "25%    NaN       0.000000  3.025600e+04  0.000000e+00     85.000000   \n",
       "50%    NaN       0.000000  1.347900e+05  0.000000e+00     95.000000   \n",
       "75%    NaN       2.000000  1.388851e+06  0.000000e+00    107.000000   \n",
       "max    NaN       2.000000  1.908001e+06  2.787965e+09   1256.000000   \n",
       "\n",
       "       vote_average    vote_count  \n",
       "count  45460.000000  45460.000000  \n",
       "mean       5.618207    109.897338  \n",
       "std        1.924216    491.310374  \n",
       "min        0.000000      0.000000  \n",
       "25%        5.000000      3.000000  \n",
       "50%        6.000000     10.000000  \n",
       "75%        6.800000     34.000000  \n",
       "max       10.000000  14075.000000  "
      ]
     },
     "execution_count": 41,
     "metadata": {},
     "output_type": "execute_result"
    }
   ],
   "source": [
    "combined_df.describe()\n",
    "\n"
   ]
  },
  {
   "cell_type": "code",
   "execution_count": 43,
   "id": "e0d79549-15d8-4029-b136-af9fcd52fc93",
   "metadata": {},
   "outputs": [
    {
     "name": "stdout",
     "output_type": "stream",
     "text": [
      "<class 'pandas.core.frame.DataFrame'>\n",
      "RangeIndex: 646969 entries, 0 to 646968\n",
      "Data columns (total 31 columns):\n",
      " #   Column                 Non-Null Count   Dtype  \n",
      "---  ------                 --------------   -----  \n",
      " 0   id                     646969 non-null  object \n",
      " 1   0                      0 non-null       float64\n",
      " 2   credit_id              464314 non-null  object \n",
      " 3   department             464314 non-null  object \n",
      " 4   gender                 464314 non-null  float64\n",
      " 5   id.1                   464314 non-null  float64\n",
      " 6   job                    464314 non-null  object \n",
      " 7   name                   464314 non-null  object \n",
      " 8   profile_path           95098 non-null   object \n",
      " 9   adult                  45466 non-null   object \n",
      " 10  belongs_to_collection  4494 non-null    object \n",
      " 11  budget                 45466 non-null   object \n",
      " 12  homepage               7782 non-null    object \n",
      " 13  imdb_id                45449 non-null   object \n",
      " 14  original_language      45455 non-null   object \n",
      " 15  original_title         45466 non-null   object \n",
      " 16  overview               44512 non-null   object \n",
      " 17  popularity             45461 non-null   object \n",
      " 18  poster_path            45080 non-null   object \n",
      " 19  production_companies   45463 non-null   object \n",
      " 20  production_countries   45463 non-null   object \n",
      " 21  release_date           45379 non-null   object \n",
      " 22  revenue                45460 non-null   float64\n",
      " 23  runtime                45203 non-null   float64\n",
      " 24  spoken_languages       45460 non-null   object \n",
      " 25  status                 45379 non-null   object \n",
      " 26  tagline                20412 non-null   object \n",
      " 27  title                  45460 non-null   object \n",
      " 28  video                  45460 non-null   object \n",
      " 29  vote_average           45460 non-null   float64\n",
      " 30  vote_count             45460 non-null   float64\n",
      "dtypes: float64(7), object(24)\n",
      "memory usage: 153.0+ MB\n"
     ]
    }
   ],
   "source": [
    "combined_df.info(show_counts=True, memory_usage=True, verbose=True)"
   ]
  },
  {
   "cell_type": "code",
   "execution_count": 45,
   "id": "47c99d12-c2c9-4510-8995-3fe5dbdbf8c4",
   "metadata": {},
   "outputs": [],
   "source": [
    "# Reemplazar los valores nulos en las columnas 'revenue' y 'budget' por 0\n",
    "combined_df['revenue'].fillna(0, inplace=True)\n",
    "combined_df['budget'].fillna(0, inplace=True)"
   ]
  },
  {
   "cell_type": "code",
   "execution_count": 47,
   "id": "a07d5189-7389-4db0-8138-fe3170d0a39b",
   "metadata": {},
   "outputs": [],
   "source": [
    "# Eliminar las filas donde 'release_date' sea nulo\n",
    "combined_df = combined_df.dropna(subset=['release_date'])\n"
   ]
  },
  {
   "cell_type": "code",
   "execution_count": 55,
   "id": "d118eaee-d975-4be0-ab35-6bd75d3f2fc7",
   "metadata": {},
   "outputs": [
    {
     "name": "stdout",
     "output_type": "stream",
     "text": [
      "601503    1995-10-30\n",
      "601504    1995-12-15\n",
      "601505    1995-12-22\n",
      "601506    1995-12-22\n",
      "601507    1995-02-10\n",
      "601508    1995-12-15\n",
      "601509    1995-12-15\n",
      "601510    1995-12-22\n",
      "601511    1995-12-22\n",
      "601512    1995-11-16\n",
      "Name: release_date, dtype: object\n",
      "['1995-10-30' '1995-12-15' '1995-12-22' ... '1904-03-05' '1991-05-13'\n",
      " '1917-10-21']\n"
     ]
    }
   ],
   "source": [
    "# Muestra los primeros valores de la columna para inspeccionar su formato\n",
    "print(combined_df['release_date'].head(10))\n",
    "\n",
    "# Muestra valores únicos que podrían no estar en el formato esperado\n",
    "print(combined_df['release_date'].unique())\n",
    "\n"
   ]
  },
  {
   "cell_type": "code",
   "execution_count": 57,
   "id": "3402f23b-0e0e-4ab0-9330-0ce24df8dba1",
   "metadata": {},
   "outputs": [],
   "source": [
    "# Convertir la columna de fecha a formato AAAA-mm-dd, manejando errores\n",
    "combined_df['release_date'] = pd.to_datetime(combined_df['release_date'], format='%Y-%m-%d', errors='coerce')\n",
    "\n",
    "# Crear la columna release_year a partir de la fecha de estreno\n",
    "combined_df['release_year'] = combined_df['release_date'].dt.year\n",
    "\n",
    "# Guardar el DataFrame modificado en el mismo archivo\n",
    "combined_df.to_csv('combined_df.csv', index=False)\n"
   ]
  },
  {
   "cell_type": "code",
   "execution_count": 61,
   "id": "08f99960-aad7-46e0-8b77-aa64db124c16",
   "metadata": {},
   "outputs": [],
   "source": [
    "# Intentar convertir la columna de fecha sin un formato estricto\n",
    "combined_df['release_date'] = pd.to_datetime(combined_df['release_date'], errors='coerce')\n",
    "\n",
    "# Crear la columna release_year a partir de la fecha de estreno\n",
    "combined_df['release_year'] = combined_df['release_date'].dt.year\n",
    "\n",
    "# Guardar el DataFrame modificado en el mismo archivo\n",
    "combined_df.to_csv('combined_df.csv', index=False)\n",
    "\n"
   ]
  },
  {
   "cell_type": "code",
   "execution_count": 62,
   "id": "29cd1c85-7e9d-4fbe-9545-abdc32335030",
   "metadata": {},
   "outputs": [],
   "source": [
    "# Convertir la columna de fecha a formato AAAA-mm-dd, manejando errores\n",
    "combined_df['release_date'] = pd.to_datetime(combined_df['release_date'], errors='coerce')\n",
    "\n",
    "# Crear la columna release_year a partir de la fecha de estreno\n",
    "combined_df['release_year'] = combined_df['release_date'].dt.year\n",
    "\n",
    "# Convertir las columnas revenue y budget a valores numéricos, manejando errores\n",
    "combined_df['revenue'] = pd.to_numeric(combined_df['revenue'], errors='coerce')\n",
    "combined_df['budget'] = pd.to_numeric(combined_df['budget'], errors='coerce')\n",
    "\n"
   ]
  },
  {
   "cell_type": "code",
   "execution_count": 63,
   "id": "32d2c802-3418-4351-b281-a61060be64eb",
   "metadata": {},
   "outputs": [],
   "source": [
    "# Calcular la columna return y asignar 0 cuando budget es 0 o no está disponible\n",
    "combined_df['return'] = combined_df.apply(lambda row: row['revenue'] / row['budget'] if row['budget'] > 0 else 0, axis=1)\n",
    "\n",
    "# Eliminar las filas donde release_date es NaT (no es una fecha válida)\n",
    "combined_df = combined_df.dropna(subset=['release_date'])\n",
    "\n",
    "# Guardar el DataFrame modificado en el mismo archivo\n",
    "combined_df.to_csv('combined_df.csv', index=False)\n"
   ]
  },
  {
   "cell_type": "code",
   "execution_count": 67,
   "id": "73da3913-ea35-4c38-9bc5-60578529cce9",
   "metadata": {},
   "outputs": [],
   "source": [
    "# Eliminar las columnas no utilizadas\n",
    "columns_to_remove = ['video', 'imdb_id', 'adult', 'original_title', 'poster_path', 'homepage']\n",
    "combined_df = combined_df.drop(columns=columns_to_remove)\n",
    "\n",
    "# Guardar el DataFrame modificado en el mismo archivo\n",
    "combined_df.to_csv('combined_df.csv', index=False)\n"
   ]
  },
  {
   "cell_type": "code",
   "execution_count": null,
   "id": "f9fd53ec-40ac-4253-847e-e310b36f1461",
   "metadata": {},
   "outputs": [],
   "source": []
  }
 ],
 "metadata": {
  "kernelspec": {
   "display_name": "Python 3 (ipykernel)",
   "language": "python",
   "name": "python3"
  },
  "language_info": {
   "codemirror_mode": {
    "name": "ipython",
    "version": 3
   },
   "file_extension": ".py",
   "mimetype": "text/x-python",
   "name": "python",
   "nbconvert_exporter": "python",
   "pygments_lexer": "ipython3",
   "version": "3.11.7"
  }
 },
 "nbformat": 4,
 "nbformat_minor": 5
}
